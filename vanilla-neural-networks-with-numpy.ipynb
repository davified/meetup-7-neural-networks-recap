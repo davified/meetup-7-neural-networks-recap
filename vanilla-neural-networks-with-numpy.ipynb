{
 "cells": [
  {
   "cell_type": "markdown",
   "metadata": {
    "slideshow": {
     "slide_type": "slide"
    }
   },
   "source": [
    "# Building neural networks with our bare hands (and numpy)"
   ]
  },
  {
   "cell_type": "code",
   "execution_count": 168,
   "metadata": {
    "collapsed": true,
    "slideshow": {
     "slide_type": "skip"
    }
   },
   "outputs": [],
   "source": [
    "# import dependencies and define helpers\n",
    "import numpy as np\n",
    "import matplotlib.pyplot as plt\n",
    "%matplotlib inline \n",
    "\n",
    "np.set_printoptions(precision=2)\n",
    "np.set_printoptions(suppress=True)\n",
    "\n",
    "def sigmoid(x):\n",
    "  return 1 / (1 + np.exp(-x))"
   ]
  },
  {
   "cell_type": "markdown",
   "metadata": {
    "slideshow": {
     "slide_type": "slide"
    }
   },
   "source": [
    "### Single-variable Linear Regression "
   ]
  },
  {
   "cell_type": "markdown",
   "metadata": {
    "slideshow": {
     "slide_type": "fragment"
    }
   },
   "source": [
    "y = mx + c\n",
    "\n",
    "_or_\n",
    "\n",
    "y = β1x1 + β0"
   ]
  },
  {
   "cell_type": "code",
   "execution_count": 190,
   "metadata": {
    "slideshow": {
     "slide_type": "subslide"
    }
   },
   "outputs": [
    {
     "name": "stdout",
     "output_type": "stream",
     "text": [
      "80.0\n"
     ]
    }
   ],
   "source": [
    "# David's happiness function\n",
    "# y = mx + c, where m = 0.01, c = 30\n",
    "m = 0.01\n",
    "c = 30\n",
    "income = 5000\n",
    "happiness = (m * income) + c\n",
    "print(happiness)"
   ]
  },
  {
   "cell_type": "code",
   "execution_count": 196,
   "metadata": {
    "slideshow": {
     "slide_type": "fragment"
    }
   },
   "outputs": [
    {
     "data": {
      "text/plain": [
       "[<matplotlib.lines.Line2D at 0x1088b4dd0>]"
      ]
     },
     "execution_count": 196,
     "metadata": {},
     "output_type": "execute_result"
    },
    {
     "data": {
      "image/png": "[encoded data removed]",
      "text/plain": [
       "<matplotlib.figure.Figure at 0x1088b4d50>"
      ]
     },
     "metadata": {},
     "output_type": "display_data"
    }
   ],
   "source": [
    "# Visualize David's happiness function\n",
    "\n",
    "x = np.linspace(0,5000,100) \n",
    "y = 0.01 * x + 30 \n",
    "\n",
    "plt.ylim([0, 100])\n",
    "plt.plot(x,y)"
   ]
  },
  {
   "cell_type": "code",
   "execution_count": 192,
   "metadata": {
    "slideshow": {
     "slide_type": "subslide"
    }
   },
   "outputs": [
    {
     "name": "stdout",
     "output_type": "stream",
     "text": [
      "[ 40.  50.  60.  70.  80.]\n"
     ]
    }
   ],
   "source": [
    "# Applaying this on multiple data points (i.e. different x values)\n",
    "income = [1000, 2000, 3000, 4000, 5000]\n",
    "m = 0.01\n",
    "c = 30\n",
    "happiness = np.dot(m, income) + c\n",
    "print(happiness)"
   ]
  },
  {
   "cell_type": "markdown",
   "metadata": {
    "slideshow": {
     "slide_type": "slide"
    }
   },
   "source": [
    "### Multi-variable Linear Regression"
   ]
  },
  {
   "cell_type": "code",
   "execution_count": 197,
   "metadata": {
    "scrolled": true,
    "slideshow": {
     "slide_type": "subslide"
    }
   },
   "outputs": [
    {
     "name": "stderr",
     "output_type": "stream",
     "text": [
      "/Users/davidtan/anaconda2/lib/python2.7/site-packages/ipykernel/__main__.py:10: RuntimeWarning: overflow encountered in exp\n"
     ]
    }
   ],
   "source": [
    "X = np.array([[1000, 2000, 3000, 4000 , 5000],\n",
    "              [-100, -200, 3000, -4000, 5]])\n",
    "\n",
    "W = np.zeros(10).reshape(5,2)\n",
    "W.fill(0.01)\n",
    "b = np.zeros((2))\n",
    "b.fill(30)\n",
    "\n",
    "Z = np.dot(X, W) + b\n",
    "\n",
    "A1 = sigmoid(Z)"
   ]
  },
  {
   "cell_type": "code",
   "execution_count": 205,
   "metadata": {
    "slideshow": {
     "slide_type": "subslide"
    }
   },
   "outputs": [
    {
     "name": "stdout",
     "output_type": "stream",
     "text": [
      "======== HIDDEN LAYER 1 ========\n",
      "\n",
      "==== X: ====\n",
      "[[ 1000  2000  3000  4000  5000]\n",
      " [ -100  -200  3000 -4000     5]]\n",
      "\n",
      "==== M: ====\n",
      "[[ 30.  30.]\n",
      " [ 30.  30.]\n",
      " [ 30.  30.]\n",
      " [ 30.  30.]\n",
      " [ 30.  30.]]\n",
      "\n",
      "==== C: ====\n",
      "[ 0.  0.]\n",
      "\n",
      "==== Z: ====\n",
      "[[ 450000.  450000.]\n",
      " [ -38850.  -38850.]]\n",
      "\n",
      "==== A1: ====\n",
      "[[ 1.  1.]\n",
      " [ 0.  0.]]\n",
      "\n"
     ]
    }
   ],
   "source": [
    "print(\"======== HIDDEN LAYER 1 ========\\n\")\n",
    "print(\"{}\\n{}\\n\".format(\"==== X: ====\", X))\n",
    "print(\"{}\\n{}\\n\".format(\"==== M: ====\", M))\n",
    "print(\"{}\\n{}\\n\".format(\"==== C: ====\", C))\n",
    "print(\"{}\\n{}\\n\".format(\"==== Z: ====\", Z))\n",
    "print(\"{}\\n{}\\n\".format(\"==== A1: ====\", A1))"
   ]
  },
  {
   "cell_type": "markdown",
   "metadata": {
    "slideshow": {
     "slide_type": "slide"
    }
   },
   "source": [
    "### Neural network in vanilla numpy"
   ]
  },
  {
   "cell_type": "markdown",
   "metadata": {
    "slideshow": {
     "slide_type": "subslide"
    }
   },
   "source": [
    "![neural network graph](./assets/neural-network-graph.png)"
   ]
  },
  {
   "cell_type": "code",
   "execution_count": 140,
   "metadata": {
    "collapsed": true,
    "slideshow": {
     "slide_type": "subslide"
    }
   },
   "outputs": [],
   "source": [
    "X = np.array([[0,0,1],\n",
    "              [0,1,1],\n",
    "              [1,0,1],\n",
    "              [1,1,1] ])\n",
    "y = np.array([[0,1,1,1]]).T\n",
    "\n",
    "W1 = 2*np.random.random((3,4)) - 1\n",
    "W2 = 2*np.random.random((4,1)) - 1\n",
    "for j in xrange(60000):\n",
    "    # calculating output of layer 1    \n",
    "    Z1 = np.dot(X,W1)\n",
    "    A1 = sigmoid(Z1)\n",
    "    \n",
    "    # calculating output of layer 2\n",
    "    Z2 = np.dot(A1,W2)\n",
    "    A2 = sigmoid(Z2)\n",
    "    \n",
    "    # measure loss    \n",
    "    A2_delta = (y - A2)*(A2*(1-A2))\n",
    "    A1_delta = A2_delta.dot(W2.T) * (A1 * (1-A1))\n",
    "    \n",
    "    # update weight\n",
    "    W2 += A1.T.dot(A2_delta)\n",
    "    W1 += X.T.dot(A1_delta)"
   ]
  },
  {
   "cell_type": "code",
   "execution_count": 141,
   "metadata": {
    "slideshow": {
     "slide_type": "subslide"
    }
   },
   "outputs": [
    {
     "data": {
      "text/plain": [
       "array([[ 4.25,  2.79, -2.75, -1.74],\n",
       "       [ 4.43,  2.49, -2.19, -2.46],\n",
       "       [-2.2 , -1.41,  1.33,  1.11]])"
      ]
     },
     "execution_count": 141,
     "metadata": {},
     "output_type": "execute_result"
    }
   ],
   "source": [
    "W1"
   ]
  },
  {
   "cell_type": "code",
   "execution_count": 142,
   "metadata": {
    "slideshow": {
     "slide_type": "fragment"
    }
   },
   "outputs": [
    {
     "data": {
      "text/plain": [
       "array([[ 6.85],\n",
       "       [ 3.39],\n",
       "       [-5.06],\n",
       "       [-4.24]])"
      ]
     },
     "execution_count": 142,
     "metadata": {},
     "output_type": "execute_result"
    }
   ],
   "source": [
    "W2"
   ]
  },
  {
   "cell_type": "code",
   "execution_count": 143,
   "metadata": {
    "slideshow": {
     "slide_type": "fragment"
    }
   },
   "outputs": [
    {
     "name": "stdout",
     "output_type": "stream",
     "text": [
      "[[ 0.]\n",
      " [ 1.]\n",
      " [ 1.]\n",
      " [ 1.]]\n"
     ]
    }
   ],
   "source": [
    "x_unseen = np.array([ [0,0,1],[0,1,1],[1,0,1],[1,1,1] ])\n",
    "A1_ = sigmoid(np.dot(x_unseen,W1))\n",
    "y_pred = sigmoid(np.dot(A1_,W2))\n",
    "print(y_pred)"
   ]
  }
 ],
 "metadata": {
  "celltoolbar": "Slideshow",
  "kernelspec": {
   "display_name": "Python 2",
   "language": "python",
   "name": "python2"
  },
  "language_info": {
   "codemirror_mode": {
    "name": "ipython",
    "version": 2
   },
   "file_extension": ".py",
   "mimetype": "text/x-python",
   "name": "python",
   "nbconvert_exporter": "python",
   "pygments_lexer": "ipython2",
   "version": "2.7.13"
  }
 },
 "nbformat": 4,
 "nbformat_minor": 2
}
