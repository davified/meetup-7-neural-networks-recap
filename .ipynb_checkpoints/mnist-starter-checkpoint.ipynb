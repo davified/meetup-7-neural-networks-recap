{
 "cells": [
  {
   "cell_type": "markdown",
   "metadata": {},
   "source": [
    "# Building and training a simple neural network"
   ]
  },
  {
   "cell_type": "markdown",
   "metadata": {},
   "source": [
    "### Exercise 1: A basic deep neural network\n",
    "\n",
    "Instantiate, build and train your neural network using Keras. Fill in the blanks in the lines that contain a \"`# YOUR CODE HERE`\" notation\n",
    "\n",
    "Reference:\n",
    "- [Keras Sequential API docs](https://keras.io/getting-started/sequential-model-guide/)\n",
    "- [Dense layer docs](https://keras.io/layers/core/)\n",
    "- [Convolutional layer docs](https://keras.io/layers/convolutional/)"
   ]
  },
  {
   "cell_type": "code",
   "execution_count": null,
   "metadata": {},
   "outputs": [],
   "source": [
    "from __future__ import print_function\n",
    "import keras\n",
    "from keras.datasets import mnist\n",
    "from keras.models import Sequential\n",
    "from keras.layers import Dense\n",
    "from keras import backend as K"
   ]
  },
  {
   "cell_type": "code",
   "execution_count": null,
   "metadata": {
    "collapsed": true
   },
   "outputs": [],
   "source": [
    "# Load data\n",
    "(x_train, y_train), (x_test, y_test) = mnist.load_data()"
   ]
  },
  {
   "cell_type": "code",
   "execution_count": null,
   "metadata": {},
   "outputs": [],
   "source": [
    "# Reshape data\n",
    "x_train = x_train.reshape(60000, 784)\n",
    "x_test = x_test.reshape(10000, 784)\n",
    "\n",
    "# Convert to float so that we can divide it by 255 and get a float\n",
    "x_train = x_train.astype('float32')\n",
    "x_test = x_test.astype('float32')\n",
    "\n",
    "# Normalize data to range from 0 to 1\n",
    "x_train /= 255\n",
    "x_test /= 255\n",
    "print('x_train shape:', x_train.shape)\n",
    "\n",
    "# convert class vectors to binary class matrices\n",
    "num_classes = 10\n",
    "y_train = keras.utils.to_categorical(y_train, num_classes)\n",
    "y_test = keras.utils.to_categorical(y_test, num_classes)"
   ]
  },
  {
   "cell_type": "code",
   "execution_count": null,
   "metadata": {},
   "outputs": [],
   "source": [
    "# 1. Instantiate model a sequential model\n",
    "# YOUR CODE HERE (1 line of code)\n",
    "model = __\n",
    "\n",
    "# 2. Add 2 hidden layers and 1 output layer (Hint: You can use Dense() layers)\n",
    "# YOUR CODE HERE (~3 lines of code)\n",
    "model.add(...) \n",
    "\n",
    "# 3. Compile model. Specify: optimizer, loss and metrics\n",
    "# YOUR CODE HERE (1 line of code)\n",
    "model.compile(...)"
   ]
  },
  {
   "cell_type": "code",
   "execution_count": null,
   "metadata": {},
   "outputs": [],
   "source": [
    "# 4. Inspect architecture of model\n",
    "# YOUR CODE HERE (1 line of code)\n"
   ]
  },
  {
   "cell_type": "code",
   "execution_count": null,
   "metadata": {},
   "outputs": [],
   "source": [
    "# 5. Train/fit model with training data and validation data\n",
    "# YOUR CODE HERE (1 line of code)\n"
   ]
  },
  {
   "cell_type": "markdown",
   "metadata": {},
   "source": [
    "### Exercise 2 (Bonus): A convolutional neural network\n",
    "\n",
    "Repeat the steps above (from data loading to training and evaluation) using a `Conv2D()` layer instead of a `Dense()` layer"
   ]
  },
  {
   "cell_type": "code",
   "execution_count": null,
   "metadata": {
    "collapsed": true
   },
   "outputs": [],
   "source": []
  }
 ],
 "metadata": {
  "kernelspec": {
   "display_name": "Python 2",
   "language": "python",
   "name": "python2"
  },
  "language_info": {
   "codemirror_mode": {
    "name": "ipython",
    "version": 2
   },
   "file_extension": ".py",
   "mimetype": "text/x-python",
   "name": "python",
   "nbconvert_exporter": "python",
   "pygments_lexer": "ipython2",
   "version": "2.7.13"
  }
 },
 "nbformat": 4,
 "nbformat_minor": 2
}
